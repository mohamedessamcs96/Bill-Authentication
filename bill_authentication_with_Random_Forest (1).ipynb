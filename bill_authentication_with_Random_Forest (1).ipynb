{
  "cells": [
    {
      "cell_type": "markdown",
      "source": [
        "# Bill Authentication"
      ],
      "metadata": {
        "id": "Cfquoq6fg4HT"
      },
      "id": "Cfquoq6fg4HT"
    },
    {
      "cell_type": "markdown",
      "source": [
        "https://www.kaggle.com/datasets/anjanisona/bill-authentication/data"
      ],
      "metadata": {
        "id": "jDIcnzndg5YF"
      },
      "id": "jDIcnzndg5YF"
    },
    {
      "cell_type": "code",
      "execution_count": 1,
      "id": "518a7327",
      "metadata": {
        "_cell_guid": "b1076dfc-b9ad-4769-8c92-a6c4dae69d19",
        "_uuid": "8f2839f25d086af736a60e9eeb907d3b93b6e0e5",
        "execution": {
          "iopub.execute_input": "2023-03-03T04:28:40.523460Z",
          "iopub.status.busy": "2023-03-03T04:28:40.522972Z",
          "iopub.status.idle": "2023-03-03T04:28:50.449691Z",
          "shell.execute_reply": "2023-03-03T04:28:50.448390Z"
        },
        "papermill": {
          "duration": 9.939564,
          "end_time": "2023-03-03T04:28:50.452840",
          "exception": false,
          "start_time": "2023-03-03T04:28:40.513276",
          "status": "completed"
        },
        "tags": [],
        "id": "518a7327"
      },
      "outputs": [],
      "source": [
        "import numpy as np # linear algebra\n",
        "import pandas as pd # data processing, CSV file I/O (e.g. pd.read_csv)\n",
        "import matplotlib.pyplot as plt\n",
        "from sklearn.model_selection import train_test_split\n",
        "import seaborn as sns"
      ]
    },
    {
      "cell_type": "code",
      "execution_count": 2,
      "id": "b0271d9f",
      "metadata": {
        "execution": {
          "iopub.execute_input": "2023-03-03T04:28:50.469167Z",
          "iopub.status.busy": "2023-03-03T04:28:50.467611Z",
          "iopub.status.idle": "2023-03-03T04:28:50.496883Z",
          "shell.execute_reply": "2023-03-03T04:28:50.495700Z"
        },
        "papermill": {
          "duration": 0.039676,
          "end_time": "2023-03-03T04:28:50.499454",
          "exception": false,
          "start_time": "2023-03-03T04:28:50.459778",
          "status": "completed"
        },
        "tags": [],
        "colab": {
          "base_uri": "https://localhost:8080/"
        },
        "id": "b0271d9f",
        "outputId": "9dc2e1de-bad3-44ab-c1f2-703c1342be8d"
      },
      "outputs": [
        {
          "output_type": "execute_result",
          "data": {
            "text/plain": [
              "Variance    0\n",
              "Skewness    0\n",
              "Curtosis    0\n",
              "Entropy     0\n",
              "Class       0\n",
              "dtype: int64"
            ]
          },
          "metadata": {},
          "execution_count": 2
        }
      ],
      "source": [
        "bank = pd.read_csv('bill_authentication.csv')\n",
        "bank.isna().sum()"
      ]
    },
    {
      "cell_type": "code",
      "execution_count": 3,
      "id": "ed9882bf",
      "metadata": {
        "execution": {
          "iopub.execute_input": "2023-03-03T04:28:50.514927Z",
          "iopub.status.busy": "2023-03-03T04:28:50.513765Z",
          "iopub.status.idle": "2023-03-03T04:28:50.622106Z",
          "shell.execute_reply": "2023-03-03T04:28:50.620775Z"
        },
        "papermill": {
          "duration": 0.11923,
          "end_time": "2023-03-03T04:28:50.625300",
          "exception": false,
          "start_time": "2023-03-03T04:28:50.506070",
          "status": "completed"
        },
        "tags": [],
        "id": "ed9882bf"
      },
      "outputs": [],
      "source": [
        "from sklearn.ensemble import RandomForestClassifier\n",
        "from sklearn.model_selection import train_test_split\n",
        "from sklearn.metrics import accuracy_score"
      ]
    },
    {
      "cell_type": "code",
      "execution_count": 4,
      "id": "7ecb6839",
      "metadata": {
        "execution": {
          "iopub.execute_input": "2023-03-03T04:28:50.640283Z",
          "iopub.status.busy": "2023-03-03T04:28:50.639842Z",
          "iopub.status.idle": "2023-03-03T04:28:50.653037Z",
          "shell.execute_reply": "2023-03-03T04:28:50.651933Z"
        },
        "papermill": {
          "duration": 0.02354,
          "end_time": "2023-03-03T04:28:50.655303",
          "exception": false,
          "start_time": "2023-03-03T04:28:50.631763",
          "status": "completed"
        },
        "tags": [],
        "id": "7ecb6839"
      },
      "outputs": [],
      "source": [
        "y = bank['Class']\n",
        "X = bank.drop('Class',axis=1)"
      ]
    },
    {
      "cell_type": "code",
      "source": [
        "X_train, X_test, y_train, y_test = train_test_split(X, y, test_size=0.2, random_state=42)"
      ],
      "metadata": {
        "id": "v2fd1r8AgDpj"
      },
      "id": "v2fd1r8AgDpj",
      "execution_count": 7,
      "outputs": []
    },
    {
      "cell_type": "code",
      "execution_count": 5,
      "id": "a724883f",
      "metadata": {
        "execution": {
          "iopub.execute_input": "2023-03-03T04:28:56.779518Z",
          "iopub.status.busy": "2023-03-03T04:28:56.778715Z",
          "iopub.status.idle": "2023-03-03T04:28:56.986011Z",
          "shell.execute_reply": "2023-03-03T04:28:56.984856Z"
        },
        "papermill": {
          "duration": 0.22693,
          "end_time": "2023-03-03T04:28:56.988643",
          "exception": false,
          "start_time": "2023-03-03T04:28:56.761713",
          "status": "completed"
        },
        "tags": [],
        "colab": {
          "base_uri": "https://localhost:8080/",
          "height": 466
        },
        "id": "a724883f",
        "outputId": "f3f69622-7ab1-46d8-e3f5-9cedf2b32827"
      },
      "outputs": [
        {
          "output_type": "execute_result",
          "data": {
            "text/plain": [
              "<Axes: xlabel='Class', ylabel='count'>"
            ]
          },
          "metadata": {},
          "execution_count": 5
        },
        {
          "output_type": "display_data",
          "data": {
            "text/plain": [
              "<Figure size 640x480 with 1 Axes>"
            ],
            "image/png": "[encoded data removed]"
          },
          "metadata": {}
        }
      ],
      "source": [
        "sns.countplot(x=bank['Class'],label='Count')"
      ]
    },
    {
      "cell_type": "code",
      "execution_count": 8,
      "id": "5e312d44",
      "metadata": {
        "execution": {
          "iopub.execute_input": "2023-03-03T04:28:59.704151Z",
          "iopub.status.busy": "2023-03-03T04:28:59.703004Z",
          "iopub.status.idle": "2023-03-03T04:28:59.711629Z",
          "shell.execute_reply": "2023-03-03T04:28:59.710340Z"
        },
        "papermill": {
          "duration": 0.030992,
          "end_time": "2023-03-03T04:28:59.714210",
          "exception": false,
          "start_time": "2023-03-03T04:28:59.683218",
          "status": "completed"
        },
        "tags": [],
        "colab": {
          "base_uri": "https://localhost:8080/",
          "height": 75
        },
        "id": "5e312d44",
        "outputId": "8f0fcea8-36cf-4f6c-f684-0c58c3fdfd92"
      },
      "outputs": [
        {
          "output_type": "execute_result",
          "data": {
            "text/plain": [
              "RandomForestClassifier(criterion='entropy', n_estimators=500)"
            ],
            "text/html": [
              "<style>#sk-container-id-1 {color: black;background-color: white;}#sk-container-id-1 pre{padding: 0;}#sk-container-id-1 div.sk-toggleable {background-color: white;}#sk-container-id-1 label.sk-toggleable__label {cursor: pointer;display: block;width: 100%;margin-bottom: 0;padding: 0.3em;box-sizing: border-box;text-align: center;}#sk-container-id-1 label.sk-toggleable__label-arrow:before {content: \"▸\";float: left;margin-right: 0.25em;color: #696969;}#sk-container-id-1 label.sk-toggleable__label-arrow:hover:before {color: black;}#sk-container-id-1 div.sk-estimator:hover label.sk-toggleable__label-arrow:before {color: black;}#sk-container-id-1 div.sk-toggleable__content {max-height: 0;max-width: 0;overflow: hidden;text-align: left;background-color: #f0f8ff;}#sk-container-id-1 div.sk-toggleable__content pre {margin: 0.2em;color: black;border-radius: 0.25em;background-color: #f0f8ff;}#sk-container-id-1 input.sk-toggleable__control:checked~div.sk-toggleable__content {max-height: 200px;max-width: 100%;overflow: auto;}#sk-container-id-1 input.sk-toggleable__control:checked~label.sk-toggleable__label-arrow:before {content: \"▾\";}#sk-container-id-1 div.sk-estimator input.sk-toggleable__control:checked~label.sk-toggleable__label {background-color: #d4ebff;}#sk-container-id-1 div.sk-label input.sk-toggleable__control:checked~label.sk-toggleable__label {background-color: #d4ebff;}#sk-container-id-1 input.sk-hidden--visually {border: 0;clip: rect(1px 1px 1px 1px);clip: rect(1px, 1px, 1px, 1px);height: 1px;margin: -1px;overflow: hidden;padding: 0;position: absolute;width: 1px;}#sk-container-id-1 div.sk-estimator {font-family: monospace;background-color: #f0f8ff;border: 1px dotted black;border-radius: 0.25em;box-sizing: border-box;margin-bottom: 0.5em;}#sk-container-id-1 div.sk-estimator:hover {background-color: #d4ebff;}#sk-container-id-1 div.sk-parallel-item::after {content: \"\";width: 100%;border-bottom: 1px solid gray;flex-grow: 1;}#sk-container-id-1 div.sk-label:hover label.sk-toggleable__label {background-color: #d4ebff;}#sk-container-id-1 div.sk-serial::before {content: \"\";position: absolute;border-left: 1px solid gray;box-sizing: border-box;top: 0;bottom: 0;left: 50%;z-index: 0;}#sk-container-id-1 div.sk-serial {display: flex;flex-direction: column;align-items: center;background-color: white;padding-right: 0.2em;padding-left: 0.2em;position: relative;}#sk-container-id-1 div.sk-item {position: relative;z-index: 1;}#sk-container-id-1 div.sk-parallel {display: flex;align-items: stretch;justify-content: center;background-color: white;position: relative;}#sk-container-id-1 div.sk-item::before, #sk-container-id-1 div.sk-parallel-item::before {content: \"\";position: absolute;border-left: 1px solid gray;box-sizing: border-box;top: 0;bottom: 0;left: 50%;z-index: -1;}#sk-container-id-1 div.sk-parallel-item {display: flex;flex-direction: column;z-index: 1;position: relative;background-color: white;}#sk-container-id-1 div.sk-parallel-item:first-child::after {align-self: flex-end;width: 50%;}#sk-container-id-1 div.sk-parallel-item:last-child::after {align-self: flex-start;width: 50%;}#sk-container-id-1 div.sk-parallel-item:only-child::after {width: 0;}#sk-container-id-1 div.sk-dashed-wrapped {border: 1px dashed gray;margin: 0 0.4em 0.5em 0.4em;box-sizing: border-box;padding-bottom: 0.4em;background-color: white;}#sk-container-id-1 div.sk-label label {font-family: monospace;font-weight: bold;display: inline-block;line-height: 1.2em;}#sk-container-id-1 div.sk-label-container {text-align: center;}#sk-container-id-1 div.sk-container {/* jupyter's `normalize.less` sets `[hidden] { display: none; }` but bootstrap.min.css set `[hidden] { display: none !important; }` so we also need the `!important` here to be able to override the default hidden behavior on the sphinx rendered scikit-learn.org. See: https://github.com/scikit-learn/scikit-learn/issues/21755 */display: inline-block !important;position: relative;}#sk-container-id-1 div.sk-text-repr-fallback {display: none;}</style><div id=\"sk-container-id-1\" class=\"sk-top-container\"><div class=\"sk-text-repr-fallback\"><pre>RandomForestClassifier(criterion=&#x27;entropy&#x27;, n_estimators=500)</pre><b>In a Jupyter environment, please rerun this cell to show the HTML representation or trust the notebook. <br />On GitHub, the HTML representation is unable to render, please try loading this page with nbviewer.org.</b></div><div class=\"sk-container\" hidden><div class=\"sk-item\"><div class=\"sk-estimator sk-toggleable\"><input class=\"sk-toggleable__control sk-hidden--visually\" id=\"sk-estimator-id-1\" type=\"checkbox\" checked><label for=\"sk-estimator-id-1\" class=\"sk-toggleable__label sk-toggleable__label-arrow\">RandomForestClassifier</label><div class=\"sk-toggleable__content\"><pre>RandomForestClassifier(criterion=&#x27;entropy&#x27;, n_estimators=500)</pre></div></div></div></div></div>"
            ]
          },
          "metadata": {},
          "execution_count": 8
        }
      ],
      "source": [
        "rf = RandomForestClassifier(n_estimators= 500, criterion= 'entropy', max_depth= None, min_samples_split = 2, min_samples_leaf = 1, max_features = 'sqrt' )\n",
        "rf.fit(X_train, y_train)"
      ]
    },
    {
      "cell_type": "code",
      "source": [
        "pred= rf.predict(X_test)"
      ],
      "metadata": {
        "id": "jbLQiYBCf9gb"
      },
      "id": "jbLQiYBCf9gb",
      "execution_count": 9,
      "outputs": []
    },
    {
      "cell_type": "code",
      "source": [
        "accuracy = accuracy_score(y_test, pred)\n",
        "print(\"Accuracy:\", accuracy)"
      ],
      "metadata": {
        "colab": {
          "base_uri": "https://localhost:8080/"
        },
        "id": "PKqzClxtgAEz",
        "outputId": "5607728f-bc9a-40c2-d08d-a0322b923dd3"
      },
      "id": "PKqzClxtgAEz",
      "execution_count": 10,
      "outputs": [
        {
          "output_type": "stream",
          "name": "stdout",
          "text": [
            "Accuracy: 0.9927272727272727\n"
          ]
        }
      ]
    }
  ],
  "metadata": {
    "kernelspec": {
      "display_name": "Python 3",
      "language": "python",
      "name": "python3"
    },
    "language_info": {
      "codemirror_mode": {
        "name": "ipython",
        "version": 3
      },
      "file_extension": ".py",
      "mimetype": "text/x-python",
      "name": "python",
      "nbconvert_exporter": "python",
      "pygments_lexer": "ipython3",
      "version": "3.7.12"
    },
    "papermill": {
      "default_parameters": {},
      "duration": 34.805736,
      "end_time": "2023-03-03T04:29:04.771396",
      "environment_variables": {},
      "exception": null,
      "input_path": "__notebook__.ipynb",
      "output_path": "__notebook__.ipynb",
      "parameters": {},
      "start_time": "2023-03-03T04:28:29.965660",
      "version": "2.3.4"
    },
    "colab": {
      "provenance": []
    }
  },
  "nbformat": 4,
  "nbformat_minor": 5
}